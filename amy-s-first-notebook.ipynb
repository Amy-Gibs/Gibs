{
 "cells": [
  {
   "cell_type": "markdown",
   "id": "2696749d",
   "metadata": {
    "_cell_guid": "b1076dfc-b9ad-4769-8c92-a6c4dae69d19",
    "_uuid": "8f2839f25d086af736a60e9eeb907d3b93b6e0e5",
    "papermill": {
     "duration": 0.002042,
     "end_time": "2025-03-19T05:38:00.432191",
     "exception": false,
     "start_time": "2025-03-19T05:38:00.430149",
     "status": "completed"
    },
    "tags": []
   },
   "source": [
    "# this is my first note book"
   ]
  },
  {
   "cell_type": "code",
   "execution_count": 1,
   "id": "a6ebb0f1",
   "metadata": {
    "execution": {
     "iopub.execute_input": "2025-03-19T05:38:00.437040Z",
     "iopub.status.busy": "2025-03-19T05:38:00.436674Z",
     "iopub.status.idle": "2025-03-19T05:38:00.444867Z",
     "shell.execute_reply": "2025-03-19T05:38:00.443634Z"
    },
    "papermill": {
     "duration": 0.012518,
     "end_time": "2025-03-19T05:38:00.446555",
     "exception": false,
     "start_time": "2025-03-19T05:38:00.434037",
     "status": "completed"
    },
    "tags": []
   },
   "outputs": [
    {
     "data": {
      "text/plain": [
       "4"
      ]
     },
     "execution_count": 1,
     "metadata": {},
     "output_type": "execute_result"
    }
   ],
   "source": [
    "2+2"
   ]
  },
  {
   "cell_type": "code",
   "execution_count": null,
   "id": "a49b8314",
   "metadata": {
    "papermill": {
     "duration": 0.001423,
     "end_time": "2025-03-19T05:38:00.449868",
     "exception": false,
     "start_time": "2025-03-19T05:38:00.448445",
     "status": "completed"
    },
    "tags": []
   },
   "outputs": [],
   "source": []
  }
 ],
 "metadata": {
  "kaggle": {
   "accelerator": "none",
   "dataSources": [],
   "dockerImageVersionId": 30918,
   "isGpuEnabled": false,
   "isInternetEnabled": false,
   "language": "python",
   "sourceType": "notebook"
  },
  "kernelspec": {
   "display_name": "Python 3",
   "language": "python",
   "name": "python3"
  },
  "language_info": {
   "codemirror_mode": {
    "name": "ipython",
    "version": 3
   },
   "file_extension": ".py",
   "mimetype": "text/x-python",
   "name": "python",
   "nbconvert_exporter": "python",
   "pygments_lexer": "ipython3",
   "version": "3.10.12"
  },
  "papermill": {
   "default_parameters": {},
   "duration": 3.038768,
   "end_time": "2025-03-19T05:38:00.870187",
   "environment_variables": {},
   "exception": null,
   "input_path": "__notebook__.ipynb",
   "output_path": "__notebook__.ipynb",
   "parameters": {},
   "start_time": "2025-03-19T05:37:57.831419",
   "version": "2.6.0"
  }
 },
 "nbformat": 4,
 "nbformat_minor": 5
}
